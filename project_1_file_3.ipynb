{
 "cells": [
  {
   "cell_type": "markdown",
   "metadata": {},
   "source": [
    "In this file, we aim to explore Vapnik-Chervonenkis (VC) Theory and it applications to Deep learning\n",
    "VC theory is a major subbranch of statistical learning theory. \n"
   ]
  }
 ],
 "metadata": {
  "language_info": {
   "name": "python"
  }
 },
 "nbformat": 4,
 "nbformat_minor": 2
}
